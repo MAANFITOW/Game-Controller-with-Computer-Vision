{
 "cells": [
  {
   "cell_type": "markdown",
   "metadata": {},
   "source": [
    "## Prueba de Webcam"
   ]
  },
  {
   "cell_type": "code",
   "execution_count": 3,
   "metadata": {},
   "outputs": [],
   "source": [
    "import cv2\n",
    "\n",
    "capture = cv2.VideoCapture(0)\n",
    "\n",
    "while (capture.isOpened()):\n",
    "    ret, frame = capture.read()\n",
    "    if (ret == True):\n",
    "        cv2.imshow(\"gato0\", frame)\n",
    "        if (cv2.waitKey(30) == ord('s')):\n",
    "            break\n",
    "    else:\n",
    "        break\n",
    "\n",
    "capture.release()\n",
    "cv2.destroyAllWindows()"
   ]
  },
  {
   "cell_type": "markdown",
   "metadata": {},
   "source": [
    "### Guardar datos de la webcam"
   ]
  },
  {
   "cell_type": "code",
   "execution_count": 6,
   "metadata": {},
   "outputs": [],
   "source": [
    "import cv2\n",
    "\n",
    "capture = cv2.VideoCapture(0)\n",
    "#objeto salida, contiene los parámetros para crear el video\n",
    "salida = cv2.VideoWriter('webCam.avi', cv2.VideoWriter_fourcc(*'XVID'), 10, (720,720))\n",
    "\n",
    "while (True):\n",
    "    ret, frame = capture.read()\n",
    "    cv2.imshow('frame',frame)\n",
    "    #Usar write para GUARDAR el video\n",
    "    salida.write(frame)\n",
    "    if (cv2.waitKey(1) == ord('s')):\n",
    "        break\n",
    "\n",
    "salida.release()\n",
    "capture.release()\n",
    "cv2.destroyAllWindows()"
   ]
  },
  {
   "cell_type": "markdown",
   "metadata": {},
   "source": [
    "## Detección de Color"
   ]
  },
  {
   "cell_type": "code",
   "execution_count": 2,
   "metadata": {},
   "outputs": [],
   "source": [
    "\n",
    "import cv2\n",
    "import numpy as np\n",
    "\n",
    "cap = cv2.VideoCapture(0)\n",
    "redBajo1 = np.array([0, 100, 20], np.uint8)\n",
    "redAlto1 = np.array([8, 255, 255], np.uint8)\n",
    "redBajo2=np.array([175, 100, 20], np.uint8)\n",
    "redAlto2=np.array([179, 255, 255], np.uint8)\n",
    "\n",
    "while True:\n",
    "\n",
    "    ret,frame = cap.read()\n",
    "    if ret==True:\n",
    "\n",
    "        frameHSV = cv2.cvtColor(frame, cv2.COLOR_BGR2HSV)\n",
    "        maskRed1 = cv2.inRange(frameHSV, redBajo1, redAlto1)\n",
    "        maskRed2 = cv2.inRange(frameHSV, redBajo2, redAlto2)\n",
    "        maskRed = cv2.add(maskRed1, maskRed2)\n",
    "        maskRedvis = cv2.bitwise_and(frame, frame, mask= maskRed)   \n",
    "\n",
    "        cv2.imshow('frame', frame)\n",
    "        cv2.imshow('maskRed', maskRed)\n",
    "        cv2.imshow('maskRedvis', maskRedvis)\n",
    "\n",
    "        if cv2.waitKey(1) & 0xFF == ord('s'):\n",
    "            break\n",
    "\n",
    "cap.release()\n",
    "cv2.destroyAllWindows()"
   ]
  }
 ],
 "metadata": {
  "interpreter": {
   "hash": "ad2bdc8ecc057115af97d19610ffacc2b4e99fae6737bb82f5d7fb13d2f2c186"
  },
  "kernelspec": {
   "display_name": "Python 3.9.7 ('base')",
   "language": "python",
   "name": "python3"
  },
  "language_info": {
   "codemirror_mode": {
    "name": "ipython",
    "version": 3
   },
   "file_extension": ".py",
   "mimetype": "text/x-python",
   "name": "python",
   "nbconvert_exporter": "python",
   "pygments_lexer": "ipython3",
   "version": "3.9.7"
  },
  "orig_nbformat": 4
 },
 "nbformat": 4,
 "nbformat_minor": 2
}
